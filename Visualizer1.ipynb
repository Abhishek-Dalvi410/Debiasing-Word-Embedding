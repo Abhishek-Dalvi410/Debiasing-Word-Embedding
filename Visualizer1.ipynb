{
 "cells": [
  {
   "cell_type": "code",
   "execution_count": 3,
   "metadata": {},
   "outputs": [],
   "source": [
    "# filepath=\"w2v_gnews_small_mod.txt\"\n",
    "# word_vocab=[]\n",
    "# embed=[]\n",
    "# with open(filepath) as fp:\n",
    "#     lines = fp.readlines()\n",
    "#     cnt = 1\n",
    "#     for line in lines:\n",
    "#         word_vocab.append(line.strip().split()[0])\n",
    "#         embed.append(line.strip().split()[1:])\n",
    "#         print(cnt)\n",
    "#         cnt=cnt+1\n",
    "#         # if(cnt==100):\n",
    "#         #   break"
   ]
  },
  {
   "cell_type": "code",
   "execution_count": 4,
   "metadata": {},
   "outputs": [],
   "source": [
    "# import pickle\n",
    "# with open('vocab.pkl', 'wb') as f:\n",
    "#     pickle.dump(word_vocab, f)\n",
    "# with open('biased_embed.pkl', 'wb') as f:\n",
    "#     pickle.dump(embed, f)"
   ]
  },
  {
   "cell_type": "code",
   "execution_count": 1,
   "metadata": {},
   "outputs": [],
   "source": [
    "import pickle\n",
    "with open('biased_embed.pkl', 'rb') as f:\n",
    "    word_embed_biased = pickle.load(f)\n",
    "    \n",
    "with open('debiased_embed.pkl', 'rb') as f:\n",
    "    word_embed_debiased = pickle.load(f)\n",
    "    \n",
    "with open('vocab.pkl', 'rb') as f:\n",
    "    word_vocab_biased = pickle.load(f)"
   ]
  },
  {
   "cell_type": "code",
   "execution_count": 2,
   "metadata": {},
   "outputs": [
    {
     "name": "stdout",
     "output_type": "stream",
     "text": [
      "warning: Embedding dir exists, did you set global_step for add_embedding()?\n"
     ]
    }
   ],
   "source": [
    "import numpy as np\n",
    "from torch.utils.tensorboard import SummaryWriter\n",
    "\n",
    "vectors = np.array([[0,0,1], [0,1,0], [1,0,0], [1,1,1]])\n",
    "metadata = ['001', '010', '100', '111']   # labels\n",
    "\n",
    "vectors = np.array(word_embed_biased)\n",
    "metadata =  word_vocab_biased  # labels\n",
    "\n",
    "writer = SummaryWriter(log_dir=\"runs/biased\")\n",
    "writer.add_embedding(vectors, metadata)\n",
    "writer.close()\n",
    "\n",
    "# %load_ext tensorboard\n",
    "# %tensorboard --logdir=runs\n",
    "#######################     tensorboard --logdir runs/biased\n",
    "\n",
    "#############   tensorboard --logdir runs/debiased --port=8080\n",
    "## python -m http.server"
   ]
  },
  {
   "cell_type": "code",
   "execution_count": null,
   "metadata": {},
   "outputs": [],
   "source": []
  }
 ],
 "metadata": {
  "kernelspec": {
   "display_name": "Python 3",
   "language": "python",
   "name": "python3"
  },
  "language_info": {
   "codemirror_mode": {
    "name": "ipython",
    "version": 3
   },
   "file_extension": ".py",
   "mimetype": "text/x-python",
   "name": "python",
   "nbconvert_exporter": "python",
   "pygments_lexer": "ipython3",
   "version": "3.6.5"
  }
 },
 "nbformat": 4,
 "nbformat_minor": 4
}
